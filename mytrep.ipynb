{
 "cells": [
  {
   "cell_type": "code",
   "execution_count": 1,
   "metadata": {},
   "outputs": [],
   "source": []
  },
  {
   "cell_type": "code",
   "execution_count": 1,
   "metadata": {},
   "outputs": [],
   "source": [
    "#!/usr/bin/env python\n",
    "\n",
    "import cv2\n",
    "\n",
    "import numpy as np\n",
    "\n",
    "SZ = 20\n",
    "CLASS_N = 10\n",
    "\n",
    "# local modules\n",
    "from common import clock, mosaic\n",
    "\n",
    "def split2d(img, cell_size, flatten=True):\n",
    "    h, w = img.shape[:2]\n",
    "    sx, sy = cell_size\n",
    "    cells = [np.hsplit(row, w//sx) for row in np.vsplit(img, h//sy)]\n",
    "    cells = np.array(cells)\n",
    "    if flatten:\n",
    "        cells = cells.reshape(-1, sy, sx)\n",
    "    return cells\n",
    "\n",
    "def load_digits(fn):\n",
    "    digits_img = cv2.imread(fn, 0)\n",
    "    digits = split2d(digits_img, (SZ, SZ))\n",
    "    labels = np.repeat(np.arange(CLASS_N), len(digits)/CLASS_N)\n",
    "    return digits, labels\n",
    "\n",
    "def deskew(img):\n",
    "    m = cv2.moments(img)\n",
    "    if abs(m['mu02']) < 1e-2:\n",
    "        return img.copy()\n",
    "    skew = m['mu11']/m['mu02']\n",
    "    M = np.float32([[1, skew, -0.5*SZ*skew], [0, 1, 0]])\n",
    "    img = cv2.warpAffine(img, M, (SZ, SZ), flags=cv2.WARP_INVERSE_MAP | cv2.INTER_LINEAR)\n",
    "    return img\n",
    "\n",
    "def svmInit(C=12.5, gamma=0.50625):\n",
    "    model = cv2.ml.SVM_create()\n",
    "    model.setGamma(gamma)\n",
    "    model.setC(C)\n",
    "    model.setKernel(cv2.ml.SVM_RBF)\n",
    "    model.setType(cv2.ml.SVM_C_SVC)\n",
    "  \n",
    "    return model\n",
    "\n",
    "def svmTrain(model, samples, responses):\n",
    "    model.train(samples, cv2.ml.ROW_SAMPLE, responses)\n",
    "    return model\n",
    "\n",
    "def svmPredict(model, samples):\n",
    "    return model.predict(samples)[1].ravel()\n",
    "\n",
    "def svmEvaluate(model, digits, samples, labels):\n",
    "    predictions = svmPredict(model, samples)\n",
    "    print(predictions)\n",
    "    accuracy = (labels == predictions).mean()\n",
    "    print('Percentage Accuracy: %.2f %%' % (accuracy*100))\n",
    "\n",
    "    confusion = np.zeros((10, 10), np.int32)\n",
    "    for i, j in zip(labels, predictions):\n",
    "        confusion[int(i), int(j)] += 1\n",
    "    print('confusion matrix:')\n",
    "    print(confusion)\n",
    "\n",
    "    vis = []\n",
    "    for img, flag in zip(digits, predictions == labels):\n",
    "        img = cv2.cvtColor(img, cv2.COLOR_GRAY2BGR)\n",
    "        if not flag:\n",
    "            img[...,:2] = 0\n",
    "        \n",
    "        vis.append(img)\n",
    "    return mosaic(25, vis)\n",
    "\n",
    "\n",
    "def preprocess_simple(digits):\n",
    "    return np.float32(digits).reshape(-1, SZ*SZ) / 255.0\n",
    "\n",
    "\n",
    "def get_hog() : \n",
    "    winSize = (20,20)\n",
    "    blockSize = (8,8)\n",
    "    blockStride = (4,4)\n",
    "    cellSize = (8,8)\n",
    "    nbins = 9\n",
    "    derivAperture = 1\n",
    "    winSigma = -1.\n",
    "    histogramNormType = 0\n",
    "    L2HysThreshold = 0.2\n",
    "    gammaCorrection = 1\n",
    "    nlevels = 64\n",
    "    signedGradient = True\n",
    "\n",
    "    hog = cv2.HOGDescriptor(winSize,blockSize,blockStride,cellSize,nbins,derivAperture,winSigma,histogramNormType,L2HysThreshold,gammaCorrection,nlevels, signedGradient)\n",
    "\n",
    "    return hog\n",
    "    affine_flags = cv2.WARP_INVERSE_MAP|cv2.INTER_LINEAR\n",
    "\n"
   ]
  },
  {
   "cell_type": "code",
   "execution_count": 2,
   "metadata": {},
   "outputs": [],
   "source": [
    "def get_hog_descriptors(digits_deskewed):\n",
    "    print('Defining HoG parameters ...')\n",
    "    # HoG feature descriptor\n",
    "    hog = get_hog();\n",
    "\n",
    "    print('Calculating HoG descriptor for every image ... ')\n",
    "    hog_descriptors = []\n",
    "    for img in digits_deskewed:\n",
    "        hog_descriptors.append(hog.compute(img))\n",
    "    hog_descriptors = np.squeeze(hog_descriptors)\n",
    "    return hog_descriptors\n"
   ]
  },
  {
   "cell_type": "code",
   "execution_count": 3,
   "metadata": {},
   "outputs": [
    {
     "name": "stdout",
     "output_type": "stream",
     "text": [
      "Loading digits from digits.png ... \n",
      "digits.shape (5000, 20, 20)\n",
      "Shuffle data ... \n",
      "Deskew images ... \n",
      "Defining HoG parameters ...\n",
      "Calculating HoG descriptor for every image ... \n",
      "hog_descriptors.shape (5000, 144)\n",
      "Spliting data into training (90%) and test set (10%)... \n",
      "Training SVM model ...\n"
     ]
    },
    {
     "data": {
      "text/plain": [
       "<ml_SVM 0000017BEB0C8B10>"
      ]
     },
     "execution_count": 3,
     "metadata": {},
     "output_type": "execute_result"
    }
   ],
   "source": [
    "#if __name__ == '__main__':\n",
    "print('Loading digits from digits.png ... ')\n",
    "# Load data.\n",
    "digits, labels = load_digits('digits.png')\n",
    "print(\"digits.shape\", digits.shape)\n",
    "\n",
    "print('Shuffle data ... ')\n",
    "# Shuffle data\n",
    "rand = np.random.RandomState(10)\n",
    "shuffle = rand.permutation(len(digits))\n",
    "digits, labels = digits[shuffle], labels[shuffle]\n",
    "\n",
    "print('Deskew images ... ')\n",
    "digits_deskewed = list(map(deskew, digits))\n",
    "\n",
    "hog_descriptors = get_hog_descriptors(digits_deskewed)\n",
    "print('hog_descriptors.shape', hog_descriptors.shape)\n",
    "\n",
    "print('Spliting data into training (90%) and test set (10%)... ')\n",
    "train_n=int(0.9*len(hog_descriptors))\n",
    "digits_train, digits_test = np.split(digits_deskewed, [train_n])\n",
    "hog_descriptors_train, hog_descriptors_test = np.split(hog_descriptors, [train_n])\n",
    "labels_train, labels_test = np.split(labels, [train_n])\n",
    "\n",
    "\n",
    "print('Training SVM model ...')\n",
    "model = svmInit()\n",
    "svmTrain(model, hog_descriptors_train, labels_train)\n"
   ]
  },
  {
   "cell_type": "code",
   "execution_count": 4,
   "metadata": {},
   "outputs": [
    {
     "data": {
      "text/plain": [
       "(500, 20, 20)"
      ]
     },
     "execution_count": 4,
     "metadata": {},
     "output_type": "execute_result"
    }
   ],
   "source": [
    "digits_test.shape"
   ]
  },
  {
   "cell_type": "code",
   "execution_count": 5,
   "metadata": {},
   "outputs": [
    {
     "data": {
      "text/plain": [
       "(500, 144)"
      ]
     },
     "execution_count": 5,
     "metadata": {},
     "output_type": "execute_result"
    }
   ],
   "source": [
    "hog_descriptors_test.shape"
   ]
  },
  {
   "cell_type": "code",
   "execution_count": 6,
   "metadata": {},
   "outputs": [],
   "source": [
    "def digits_to_hog(digits):\n",
    "    deskewed_digits = list(map(deskew, digits))\n",
    "    return get_hog_descriptors(deskewed_digits)\n",
    "\n",
    "def predict_digit(model, digit):\n",
    "    return svmPredict(model, digits_to_hog(digit.reshape(1, 20, 20)))\n",
    "    \n",
    "def predict_digits(model, digits):\n",
    "    return svmPredict(model, digits_to_hog(digits))"
   ]
  },
  {
   "cell_type": "code",
   "execution_count": 7,
   "metadata": {},
   "outputs": [
    {
     "name": "stdout",
     "output_type": "stream",
     "text": [
      "Evaluating model ... \n",
      "SHHHAPPPEEEE (2, 20, 20)\n",
      "Defining HoG parameters ...\n",
      "Calculating HoG descriptor for every image ... \n",
      "predictions [3. 9.]\n"
     ]
    }
   ],
   "source": [
    "#20, 800 => 8\n",
    "print('Evaluating model ... ')\n",
    "num_tests = 2\n",
    "#vis = svmEvaluate(model, digits_test[0:num_tests], hog_descriptors_test[0:num_tests], labels_test[0:num_tests])\n",
    "# predictions = svmPredict(model, hog_descriptors_test[0:num_tests])\n",
    "\n",
    "print('SHHHAPPPEEEE', digits_test[0:num_tests].shape)\n",
    "#print('SHHHAPPPEEEE2', digits_test[0].reshape(1,20,20).shape)\n",
    "#predictions = svmPredict(model, digits_to_hog(digits_test[0:num_tests]))\n",
    "# prediction = predict_digit(model, digits_test[0])\n",
    "\n",
    "predictions = predict_digits(model, digits_test[0:num_tests])\n",
    "\n",
    "print('predictions', predictions)\n",
    "# cv2.imwrite(\"digits-classification.jpg\",vis)"
   ]
  },
  {
   "cell_type": "code",
   "execution_count": 8,
   "metadata": {},
   "outputs": [
    {
     "ename": "NameError",
     "evalue": "name 'vis' is not defined",
     "output_type": "error",
     "traceback": [
      "\u001b[1;31m---------------------------------------------------------------------------\u001b[0m",
      "\u001b[1;31mNameError\u001b[0m                                 Traceback (most recent call last)",
      "\u001b[1;32m<ipython-input-8-6a0d3267dcd8>\u001b[0m in \u001b[0;36m<module>\u001b[1;34m\u001b[0m\n\u001b[1;32m----> 1\u001b[1;33m \u001b[0mvis\u001b[0m\u001b[1;33m.\u001b[0m\u001b[0mshape\u001b[0m\u001b[1;33m\u001b[0m\u001b[1;33m\u001b[0m\u001b[0m\n\u001b[0m",
      "\u001b[1;31mNameError\u001b[0m: name 'vis' is not defined"
     ]
    }
   ],
   "source": [
    "vis.shape"
   ]
  },
  {
   "cell_type": "code",
   "execution_count": 72,
   "metadata": {},
   "outputs": [
    {
     "name": "stdout",
     "output_type": "stream",
     "text": [
      "(1643, 2555, 3)\n",
      "\n"
     ]
    }
   ],
   "source": [
    "# 768141\n",
    "image = cv2.imread('722281.jpg')\n",
    "print(image.shape)\n",
    "sqsize = 57\n",
    "\n",
    "sq1_sx = 722 + sqsize * 2\n",
    "sq1_sy = 446\n",
    "\n",
    "sq1 = image[sq1_sy:(sq1_sy + sqsize), sq1_sx:(sq1_sx + sqsize)]\n",
    "\n",
    "#cv2.rectangle(image, (sq1_sx, sq1_sy), (sq1_sx + sqsize, sq1_sy + sqsize), (255,0,0), 2)\n",
    "print('')\n",
    "#cv2.rectangle\n",
    "\n",
    "#cv2.resize(img, (width, height))\n",
    "\n",
    "#cv2.imshow(\"test\", image)\n",
    "#cv2.waitKey(0)\n",
    "#cv2.imshow(\"test\", sq1)\n",
    "#cv2.waitKey(0)\n",
    "#cv2.destroyAllWindows()\n"
   ]
  },
  {
   "cell_type": "code",
   "execution_count": 73,
   "metadata": {},
   "outputs": [
    {
     "name": "stdout",
     "output_type": "stream",
     "text": [
      "Defining HoG parameters ...\n",
      "Calculating HoG descriptor for every image ... \n",
      "[4. 4.]\n"
     ]
    }
   ],
   "source": [
    "#sq1 = cv2.resize(sq1, (20, 20))\n",
    "sq1 = cv2.cvtColor(sq1, cv2.COLOR_BGR2GRAY)\n",
    "_,sq1 = cv2.threshold(sq1,127,255,cv2.THRESH_BINARY_INV)\n",
    "kernel = np.ones((5,5),np.uint8)\n",
    "sq1 = cv2.dilate(sq1,kernel,iterations = 1)\n",
    "#_,sq1 = cv2.threshold(sq1,150,255,cv2.THRESH_BINARY_INV)\n",
    "#cv2.bitwise_not(img)\n",
    "\n",
    "cv2.imshow(\"test\", cv2.resize(sq1, (200, 200)))\n",
    "cv2.waitKey(0)\n",
    "cv2.destroyAllWindows()\n",
    "\n",
    "sq1 = cv2.resize(sq1, (20, 20))\n",
    "my_digits = np.array([sq1, sq1])\n",
    "my_digits.shape\n",
    "\n",
    "predictions = predict_digits(model, my_digits)\n",
    "print(predictions)"
   ]
  },
  {
   "cell_type": "code",
   "execution_count": null,
   "metadata": {},
   "outputs": [],
   "source": []
  }
 ],
 "metadata": {
  "kernelspec": {
   "display_name": "Python 3",
   "language": "python",
   "name": "python3"
  },
  "language_info": {
   "codemirror_mode": {
    "name": "ipython",
    "version": 3
   },
   "file_extension": ".py",
   "mimetype": "text/x-python",
   "name": "python",
   "nbconvert_exporter": "python",
   "pygments_lexer": "ipython3",
   "version": "3.6.7"
  }
 },
 "nbformat": 4,
 "nbformat_minor": 2
}
